{
  "cells": [
    {
      "cell_type": "code",
      "execution_count": 1,
      "metadata": {
        "id": "4zA2g-J7kRYE"
      },
      "outputs": [],
      "source": [
        "!pip install --quiet mrjob==0.7.4"
      ]
    },
    {
      "cell_type": "code",
      "execution_count": 2,
      "metadata": {
        "id": "XzcI3DkJ3oMX"
      },
      "outputs": [],
      "source": [
        "import numpy as np\n",
        "import heapq\n",
        "from heapq import heappush, heappop\n",
        "import collections\n",
        "import csv\n",
        "import sys\n",
        "from pyspark import SparkContext, SparkConf\n",
        "import time"
      ]
    },
    {
      "cell_type": "code",
      "execution_count": 3,
      "metadata": {
        "colab": {
          "base_uri": "https://localhost:8080/"
        },
        "id": "OzUcer3Qke6m",
        "outputId": "bf9d6db5-c115-4da4-e294-d55d02724c6a"
      },
      "outputs": [
        {
          "output_type": "stream",
          "name": "stdout",
          "text": [
            "Drive already mounted at /content/gdrive; to attempt to forcibly remount, call drive.mount(\"/content/gdrive\", force_remount=True).\n"
          ]
        }
      ],
      "source": [
        "from google.colab import drive\n",
        "drive.mount(\"/content/gdrive\")"
      ]
    },
    {
      "cell_type": "code",
      "execution_count": 4,
      "metadata": {
        "id": "ZOAJ8uEh37-S"
      },
      "outputs": [],
      "source": [
        "config = SparkConf().setAppName(\"knn_classification\").setMaster(\"local\")\n",
        "spark_context = SparkContext(conf=config)"
      ]
    },
    {
      "cell_type": "code",
      "execution_count": 5,
      "metadata": {
        "id": "EoUDNLJkkez5"
      },
      "outputs": [],
      "source": [
        "train_dataset_path = '/content/gdrive/MyDrive/BigData/Dataset_Project/training_data_1.csv'\n",
        "test_dataset_path = '/content/gdrive/MyDrive/BigData/Dataset_Project/testing_data_1.csv'\n",
        "\n",
        "max_train_values = []\n",
        "min_train_values = []\n",
        "max_test_values = []\n",
        "min_test_values = []\n",
        "train_sample_count = 0\n",
        "test_sample_count = 0\n"
      ]
    },
    {
      "cell_type": "code",
      "execution_count": 6,
      "metadata": {
        "colab": {
          "base_uri": "https://localhost:8080/"
        },
        "id": "OAk3ck2k4G0r",
        "outputId": "274b2f11-6734-462d-8d7a-0ecb8fe95699"
      },
      "outputs": [
        {
          "output_type": "stream",
          "name": "stdout",
          "text": [
            "[4.0, 13.0, 4.0, 13.0, 4.0, 13.0, 4.0, 13.0, 4.0, 13.0, 6.0]\n",
            "[1.0, 1.0, 1.0, 1.0, 1.0, 1.0, 1.0, 1.0, 1.0, 1.0, 0.0]\n",
            "[4.0, 13.0, 4.0, 13.0, 4.0, 13.0, 4.0, 13.0, 4.0, 13.0]\n",
            "[1.0, 1.0, 1.0, 1.0, 1.0, 1.0, 1.0, 1.0, 1.0, 1.0]\n"
          ]
        }
      ],
      "source": [
        "with open(train_dataset_path, mode='r') as train_file:\n",
        "    train_reader = csv.reader(train_file)\n",
        "    first_row = True\n",
        "\n",
        "    for row in train_reader:\n",
        "        if row[0][0].isdigit():\n",
        "            train_sample_count += 1\n",
        "            for i in range(len(row)):\n",
        "                if first_row:\n",
        "                    max_train_values.append(float(row[i]))\n",
        "                    min_train_values.append(float(row[i]))\n",
        "                else:\n",
        "                    max_train_values[i] = max(max_train_values[i], float(row[i]))\n",
        "                    min_train_values[i] = min(min_train_values[i], float(row[i]))\n",
        "            first_row = False\n",
        "\n",
        "# Reading and processing the test dataset\n",
        "with open(test_dataset_path, mode='r') as test_file:\n",
        "    test_reader = csv.reader(test_file)\n",
        "    first_row = True\n",
        "\n",
        "    for row in test_reader:\n",
        "        if row[0].isdigit():\n",
        "            test_sample_count += 1\n",
        "            for i in range(1, len(row)):\n",
        "                if first_row:\n",
        "                    max_test_values.append(float(row[i]))\n",
        "                    min_test_values.append(float(row[i]))\n",
        "                else:\n",
        "                    max_test_values[i-1] = max(max_test_values[i-1], float(row[i]))\n",
        "                    min_test_values[i-1] = min(min_test_values[i-1], float(row[i]))\n",
        "            first_row = False\n",
        "\n",
        "# Displaying min and max values for training and test datasets\n",
        "print(max_train_values)\n",
        "print(min_train_values)\n",
        "print(max_test_values)\n",
        "print(min_test_values)\n"
      ]
    },
    {
      "cell_type": "code",
      "execution_count": 7,
      "metadata": {
        "id": "cIlvezjF8UTl"
      },
      "outputs": [],
      "source": [
        "#  normalization function for the training and test dataset\n",
        "#  using the formula : (curr_val[i] -min(ith column))/(max(ith column) - min(ith column))\n",
        "\n",
        "# Normalization functions for training and test data\n",
        "def normalize_train(row, min_values, max_values):\n",
        "    row_elements = row.split(\",\")\n",
        "    normalized_row = []\n",
        "    if row_elements[0][0].isdigit():\n",
        "        normalized_row.append(int(row_elements[-1]))\n",
        "        for i in range(len(row_elements)):\n",
        "            normalized_row.append((float(row_elements[i]) - min_values[i]) / (max_values[i] - min_values[i]))\n",
        "    return normalized_row\n",
        "\n",
        "def normalize_test(row, min_values, max_values):\n",
        "    row_elements = row.split(\",\")\n",
        "    normalized_row = []\n",
        "    if row_elements[0][0].isdigit():\n",
        "        normalized_row.append(int(row_elements[0]))\n",
        "        for i in range(1, len(row_elements)):\n",
        "            normalized_row.append((float(row_elements[i]) - min_values[i-1]) / (max_values[i-1] - min_values[i-1]))\n",
        "    return normalized_row"
      ]
    },
    {
      "cell_type": "code",
      "execution_count": 8,
      "metadata": {
        "id": "YHR8OnCP8prS"
      },
      "outputs": [],
      "source": [
        "# Setting mapper count and features count\n",
        "mapper_count = 64\n",
        "feature_count = 10\n",
        "\n",
        "train_rdd_raw = spark_context.textFile(train_dataset_path, mapper_count)\n",
        "test_rdd_raw = spark_context.textFile(test_dataset_path)\n",
        "\n",
        "# Normalizing both datasets\n",
        "train_rdd = train_rdd_raw.map(lambda line: normalize_train(line, min_train_values, max_train_values)).cache()\n",
        "test_rdd = test_rdd_raw.map(lambda line: normalize_test(line, min_test_values, max_test_values)).cache()"
      ]
    },
    {
      "cell_type": "code",
      "execution_count": 9,
      "metadata": {
        "id": "M-FzYL3J82w7"
      },
      "outputs": [],
      "source": [
        "def calculate_iterations(train_samples, test_samples, memory_limit):\n",
        "    iterations = 0\n",
        "    train_weight = (8 * train_samples * feature_count) / (mapper_count * 1024.0 * 1024.0)\n",
        "    test_weight = (8 * test_samples * feature_count) / (1024.0 * 1024.0)\n",
        "    if (train_weight + test_weight < memory_limit * 1024.0):\n",
        "        iterations = 1\n",
        "    else:\n",
        "        if train_weight >= memory_limit * 1024.0:\n",
        "            print(\"Training weight exceeds memory limit. Exiting.\")\n",
        "            sys.exit(1)\n",
        "        iterations = int(1 + (test_weight / ((memory_limit * 1024.0) - train_weight)))\n",
        "    return iterations"
      ]
    },
    {
      "cell_type": "code",
      "execution_count": 10,
      "metadata": {
        "colab": {
          "base_uri": "https://localhost:8080/"
        },
        "id": "SQ9ZcegC9O61",
        "outputId": "f72e0d54-2d40-4bb9-8097-3b1bab4a2dd4"
      },
      "outputs": [
        {
          "output_type": "execute_result",
          "data": {
            "text/plain": [
              "MapPartitionsRDD[9] at mapPartitions at PythonRDD.scala:160"
            ]
          },
          "metadata": {},
          "execution_count": 10
        }
      ],
      "source": [
        "available_memory = 0.2\n",
        "iteration_count = calculate_iterations(train_sample_count, test_sample_count, available_memory)\n",
        "test_rdd.partitionBy(iteration_count)"
      ]
    },
    {
      "cell_type": "code",
      "execution_count": 11,
      "metadata": {
        "id": "eJoyk9WE9jdF"
      },
      "outputs": [],
      "source": [
        "def compute_knn(train_chunk, test_data, k_neighbors):\n",
        "    knn_results = []\n",
        "\n",
        "    # Calculating distances between train and test points\n",
        "    for train_row in train_chunk:\n",
        "        if len(train_row) > 0:\n",
        "            train_point = np.array(train_row[1:11])\n",
        "            for test_row in test_data:\n",
        "                if len(test_row) > 0:\n",
        "                    test_point = np.array(test_row[1:11])\n",
        "                    distance = np.linalg.norm(train_point - test_point)\n",
        "                    knn_results.append((test_row[0], (distance, train_row[0])))\n",
        "\n",
        "    # Grouping by test_id and collecting the neighbors\n",
        "    knn_by_test_point = collections.defaultdict(list)\n",
        "    for test_id, (dist, train_id) in knn_results:\n",
        "        knn_by_test_point[test_id].append((dist, train_id))\n",
        "\n",
        "    # Sorting by test_id, then by distance, and retaining the top k_neighbors\n",
        "    final_knn_results = []\n",
        "    for test_id in sorted(knn_by_test_point):\n",
        "        neighbors = knn_by_test_point[test_id]\n",
        "        neighbors.sort(key=lambda x: x[0])\n",
        "        final_knn_results.extend([(test_id, neighbor) for neighbor in neighbors[:k_neighbors]])\n",
        "\n",
        "    return final_knn_results"
      ]
    },
    {
      "cell_type": "code",
      "execution_count": 12,
      "metadata": {
        "id": "PahEw_0m9zOS"
      },
      "outputs": [],
      "source": [
        "def select_knn_results(test_row):\n",
        "    max_heap = []\n",
        "    heapq._heapify_max(max_heap)\n",
        "    for dist_class in test_row[1]:\n",
        "        heappush(max_heap, dist_class)\n",
        "        if len(max_heap) > k_neighbors:\n",
        "            heapq._heappop_max(max_heap)\n",
        "\n",
        "    class_count = collections.defaultdict(int)\n",
        "    predicted_class = -1\n",
        "    max_count = 0\n",
        "    for val in max_heap:\n",
        "        class_count[val[1]] += 1\n",
        "        if class_count[val[1]] > max_count:\n",
        "            max_count = class_count[val[1]]\n",
        "            predicted_class = val[1]\n",
        "    return (test_row[0], predicted_class)"
      ]
    },
    {
      "cell_type": "code",
      "execution_count": 13,
      "metadata": {
        "colab": {
          "base_uri": "https://localhost:8080/"
        },
        "id": "Jh-BzAhz_kYp",
        "outputId": "911f52a6-bfee-4f4e-b550-f39ac2311872"
      },
      "outputs": [
        {
          "output_type": "stream",
          "name": "stdout",
          "text": [
            "[(64, 1), (128, 1), (192, 0), (256, 0), (320, 0), (384, 0), (448, 1), (512, 0), (576, 1), (640, 0), (704, 1), (768, 1), (832, 1), (896, 0), (960, 1), (1024, 0), (1088, 1), (1152, 0), (1216, 1), (1280, 0), (1344, 0), (1408, 0), (1472, 0), (1536, 0), (1600, 0), (1664, 1), (1728, 0), (1792, 1), (1856, 1), (1920, 0), (1984, 0), (1, 1), (65, 0), (129, 0), (193, 0), (257, 0), (321, 0), (385, 1), (449, 1), (513, 0), (577, 0), (641, 1), (705, 1), (769, 1), (833, 0), (897, 1), (961, 1), (1025, 1), (1089, 0), (1153, 1), (1217, 0), (1281, 1), (1345, 0), (1409, 1), (1473, 0), (1537, 1), (1601, 1), (1665, 0), (1729, 1), (1793, 0), (1857, 0), (1921, 0), (1985, 0), (2, 1), (66, 0), (130, 0), (194, 1), (258, 3), (322, 0), (386, 0), (450, 1), (514, 1), (578, 1), (642, 0), (706, 0), (770, 1), (834, 0), (898, 0), (962, 0), (1026, 1), (1090, 0), (1154, 1), (1218, 0), (1282, 0), (1346, 0), (1410, 0), (1474, 1), (1538, 1), (1602, 0), (1666, 0), (1730, 1), (1794, 0), (1858, 1), (1922, 1), (1986, 0), (3, 0), (67, 1), (131, 0), (195, 0), (259, 1), (323, 1), (387, 0), (451, 0), (515, 0), (579, 1), (643, 0), (707, 1), (771, 0), (835, 1), (899, 0), (963, 1), (1027, 0), (1091, 1), (1155, 0), (1219, 0), (1283, 0), (1347, 0), (1411, 0), (1475, 0), (1539, 0), (1603, 1), (1667, 0), (1731, 0), (1795, 1), (1859, 0), (1923, 0), (1987, 0), (4, 0), (68, 0), (132, 1), (196, 1), (260, 1), (324, 1), (388, 0), (452, 0), (516, 1), (580, 0), (644, 1), (708, 0), (772, 0), (836, 1), (900, 0), (964, 0), (1028, 1), (1092, 0), (1156, 1), (1220, 0), (1284, 0), (1348, 1), (1412, 0), (1476, 1), (1540, 0), (1604, 0), (1668, 1), (1732, 0), (1796, 0), (1860, 0), (1924, 0), (1988, 1), (5, 0), (69, 0), (133, 1), (197, 1), (261, 0), (325, 0), (389, 0), (453, 0), (517, 0), (581, 1), (645, 1), (709, 0), (773, 1), (837, 1), (901, 0), (965, 0), (1029, 0), (1093, 0), (1157, 1), (1221, 0), (1285, 1), (1349, 0), (1413, 0), (1477, 0), (1541, 1), (1605, 0), (1669, 1), (1733, 1), (1797, 0), (1861, 0), (1925, 0), (1989, 0), (6, 0), (70, 0), (134, 0), (198, 1), (262, 1), (326, 1), (390, 0), (454, 0), (518, 1), (582, 1), (646, 1), (710, 0), (774, 1), (838, 0), (902, 1), (966, 0), (1030, 1), (1094, 1), (1158, 0), (1222, 1), (1286, 0), (1350, 0), (1414, 1), (1478, 1), (1542, 0), (1606, 1), (1670, 0), (1734, 0), (1798, 0), (1862, 1), (1926, 0), (1990, 1), (7, 1), (71, 0), (135, 0), (199, 0), (263, 0), (327, 0), (391, 1), (455, 0), (519, 1), (583, 0), (647, 1), (711, 0), (775, 0), (839, 0), (903, 0), (967, 0), (1031, 0), (1095, 0), (1159, 0), (1223, 1), (1287, 0), (1351, 0), (1415, 1), (1479, 0), (1543, 0), (1607, 1), (1671, 0), (1735, 1), (1799, 0), (1863, 0), (1927, 1), (1991, 0), (8, 1), (72, 1), (136, 1), (200, 0), (264, 0), (328, 2), (392, 0), (456, 0), (520, 0), (584, 0), (648, 1), (712, 1), (776, 1), (840, 0), (904, 1), (968, 0), (1032, 1), (1096, 0), (1160, 0), (1224, 0), (1288, 0), (1352, 1), (1416, 1), (1480, 0), (1544, 0), (1608, 0), (1672, 0), (1736, 0), (1800, 1), (1864, 1), (1928, 0), (1992, 1), (9, 1), (73, 0), (137, 1), (201, 0), (265, 0), (329, 0), (393, 0), (457, 0), (521, 1), (585, 1), (649, 0), (713, 1), (777, 0), (841, 0), (905, 1), (969, 1), (1033, 0), (1097, 1), (1161, 0), (1225, 1), (1289, 0), (1353, 0), (1417, 0), (1481, 0), (1545, 0), (1609, 1), (1673, 1), (1737, 0), (1801, 1), (1865, 0), (1929, 0), (1993, 1), (10, 0), (74, 0), (138, 2), (202, 1), (266, 0), (330, 0), (394, 1), (458, 0), (522, 1), (586, 1), (650, 1), (714, 0), (778, 0), (842, 1), (906, 1), (970, 0), (1034, 0), (1098, 0), (1162, 0), (1226, 1), (1290, 0), (1354, 1), (1418, 1), (1482, 1), (1546, 0), (1610, 0), (1674, 0), (1738, 0), (1802, 0), (1866, 1), (1930, 0), (1994, 0), (11, 0), (75, 1), (139, 0), (203, 1), (267, 0), (331, 0), (395, 0), (459, 0), (523, 0), (587, 1), (651, 0), (715, 1), (779, 1), (843, 0), (907, 1), (971, 0), (1035, 0), (1099, 1), (1163, 1), (1227, 0), (1291, 0), (1355, 0), (1419, 1), (1483, 0), (1547, 1), (1611, 0), (1675, 0), (1739, 0), (1803, 0), (1867, 0), (1931, 0), (1995, 1), (12, 1), (76, 0), (140, 0), (204, 0), (268, 3), (332, 0), (396, 0), (460, 0), (524, 0), (588, 1), (652, 0), (716, 1), (780, 1), (844, 0), (908, 1), (972, 1), (1036, 1), (1100, 0), (1164, 0), (1228, 1), (1292, 1), (1356, 1), (1420, 0), (1484, 0), (1548, 0), (1612, 0), (1676, 0), (1740, 0), (1804, 1), (1868, 0), (1932, 0), (1996, 0), (13, 0), (77, 0), (141, 1), (205, 0), (269, 1), (333, 0), (397, 0), (461, 0), (525, 0), (589, 0), (653, 0), (717, 1), (781, 1), (845, 0), (909, 0), (973, 0), (1037, 0), (1101, 0), (1165, 0), (1229, 1), (1293, 1), (1357, 1), (1421, 0), (1485, 0), (1549, 0), (1613, 0), (1677, 0), (1741, 0), (1805, 0), (1869, 0), (1933, 0), (1997, 0), (14, 0), (78, 1), (142, 0), (206, 1), (270, 0), (334, 1), (398, 1), (462, 0), (526, 1), (590, 0), (654, 1), (718, 1), (782, 0), (846, 1), (910, 0), (974, 0), (1038, 1), (1102, 1), (1166, 0), (1230, 0), (1294, 1), (1358, 0), (1422, 1), (1486, 1), (1550, 1), (1614, 0), (1678, 1), (1742, 1), (1806, 1), (1870, 1), (1934, 1), (1998, 0), (15, 0), (79, 0), (143, 1), (207, 1), (271, 0), (335, 0), (399, 0), (463, 1), (527, 1), (591, 1), (655, 0), (719, 1), (783, 0), (847, 1), (911, 0), (975, 0), (1039, 0), (1103, 0), (1167, 1), (1231, 0), (1295, 1), (1359, 1), (1423, 0), (1487, 0), (1551, 0), (1615, 0), (1679, 0), (1743, 1), (1807, 0), (1871, 0), (1935, 1), (1999, 0), (16, 0), (80, 1), (144, 0), (208, 0), (272, 0), (336, 1), (400, 0), (464, 0), (528, 1), (592, 0), (656, 0), (720, 1), (784, 0), (848, 0), (912, 0), (976, 0), (1040, 1), (1104, 0), (1168, 0), (1232, 1), (1296, 0), (1360, 0), (1424, 1), (1488, 1), (1552, 0), (1616, 0), (1680, 1), (1744, 0), (1808, 0), (1872, 0), (1936, 0), (17, 0), (81, 0), (145, 1), (209, 1), (273, 0), (337, 1), (401, 0), (465, 0), (529, 0), (593, 1), (657, 1), (721, 0), (785, 0), (849, 1), (913, 1), (977, 0), (1041, 1), (1105, 0), (1169, 1), (1233, 1), (1297, 1), (1361, 0), (1425, 0), (1489, 0), (1553, 0), (1617, 0), (1681, 0), (1745, 1), (1809, 0), (1873, 0), (1937, 0), (18, 1), (82, 1), (146, 0), (210, 0), (274, 0), (338, 0), (402, 1), (466, 0), (530, 0), (594, 0), (658, 1), (722, 2), (786, 0), (850, 1), (914, 1), (978, 0), (1042, 0), (1106, 1), (1170, 0), (1234, 0), (1298, 0), (1362, 0), (1426, 1), (1490, 0), (1554, 0), (1618, 0), (1682, 1), (1746, 0), (1810, 0), (1874, 0), (1938, 1), (19, 0), (83, 0), (147, 0), (211, 1), (275, 0), (339, 1), (403, 0), (467, 1), (531, 0), (595, 0), (659, 0), (723, 1), (787, 0), (851, 1), (915, 1), (979, 0), (1043, 1), (1107, 0), (1171, 1), (1235, 1), (1299, 0), (1363, 0), (1427, 0), (1491, 0), (1555, 0), (1619, 0), (1683, 0), (1747, 1), (1811, 0), (1875, 0), (1939, 0), (20, 1), (84, 1), (148, 0), (212, 1), (276, 1), (340, 1), (404, 0), (468, 1), (532, 0), (596, 1), (660, 0), (724, 0), (788, 1), (852, 1), (916, 0), (980, 0), (1044, 0), (1108, 0), (1172, 0), (1236, 0), (1300, 0), (1364, 0), (1428, 0), (1492, 0), (1556, 0), (1620, 0), (1684, 0), (1748, 0), (1812, 0), (1876, 1), (1940, 0), (21, 0), (85, 1), (149, 0), (213, 1), (277, 0), (341, 0), (405, 0), (469, 1), (533, 1), (597, 1), (661, 1), (725, 0), (789, 1), (853, 1), (917, 1), (981, 0), (1045, 0), (1109, 1), (1173, 0), (1237, 0), (1301, 1), (1365, 0), (1429, 0), (1493, 0), (1557, 0), (1621, 0), (1685, 0), (1749, 0), (1813, 0), (1877, 1), (1941, 0), (22, 1), (86, 0), (150, 0), (214, 1), (278, 1), (342, 0), (406, 0), (470, 0), (534, 0), (598, 1), (662, 1), (726, 1), (790, 0), (854, 0), (918, 0), (982, 0), (1046, 0), (1110, 1), (1174, 0), (1238, 0), (1302, 0), (1366, 0), (1430, 1), (1494, 0), (1558, 1), (1622, 1), (1686, 0), (1750, 0), (1814, 1), (1878, 1), (1942, 0), (23, 0), (87, 0), (151, 1), (215, 0), (279, 0), (343, 0), (407, 0), (471, 0), (535, 0), (599, 0), (663, 0), (727, 0), (791, 0), (855, 0), (919, 0), (983, 0), (1047, 1), (1111, 1), (1175, 1), (1239, 0), (1303, 0), (1367, 0), (1431, 1), (1495, 1), (1559, 0), (1623, 0), (1687, 0), (1751, 0), (1815, 1), (1879, 0), (1943, 0), (24, 0), (88, 0), (152, 0), (216, 1), (280, 0), (344, 1), (408, 1), (472, 0), (536, 0), (600, 1), (664, 2), (728, 0), (792, 0), (856, 1), (920, 1), (984, 1), (1048, 1), (1112, 1), (1176, 1), (1240, 1), (1304, 1), (1368, 1), (1432, 0), (1496, 1), (1560, 1), (1624, 0), (1688, 0), (1752, 1), (1816, 1), (1880, 1), (1944, 0), (25, 1), (89, 0), (153, 0), (217, 1), (281, 0), (345, 0), (409, 1), (473, 0), (537, 1), (601, 1), (665, 1), (729, 1), (793, 1), (857, 0), (921, 0), (985, 1), (1049, 0), (1113, 0), (1177, 1), (1241, 0), (1305, 0), (1369, 0), (1433, 1), (1497, 0), (1561, 1), (1625, 1), (1689, 0), (1753, 0), (1817, 0), (1881, 1), (1945, 0), (26, 1), (90, 0), (154, 0), (218, 0), (282, 1), (346, 1), (410, 0), (474, 0), (538, 1), (602, 1), (666, 1), (730, 0), (794, 0), (858, 1), (922, 0), (986, 0), (1050, 1), (1114, 0), (1178, 1), (1242, 0), (1306, 0), (1370, 1), (1434, 0), (1498, 1), (1562, 0), (1626, 1), (1690, 0), (1754, 0), (1818, 1), (1882, 1), (1946, 0), (27, 1), (91, 0), (155, 1), (219, 1), (283, 0), (347, 1), (411, 0), (475, 0), (539, 0), (603, 1), (667, 0), (731, 0), (795, 1), (859, 0), (923, 1), (987, 0), (1051, 0), (1115, 0), (1179, 0), (1243, 0), (1307, 1), (1371, 1), (1435, 1), (1499, 1), (1563, 1), (1627, 1), (1691, 0), (1755, 0), (1819, 1), (1883, 0), (1947, 0), (28, 0), (92, 0), (156, 0), (220, 1), (284, 0), (348, 0), (412, 0), (476, 0), (540, 0), (604, 0), (668, 1), (732, 0), (796, 0), (860, 0), (924, 0), (988, 1), (1052, 0), (1116, 0), (1180, 0), (1244, 0), (1308, 1), (1372, 1), (1436, 1), (1500, 0), (1564, 0), (1628, 1), (1692, 0), (1756, 0), (1820, 0), (1884, 0), (1948, 0), (29, 1), (93, 0), (157, 0), (221, 0), (285, 0), (349, 1), (413, 0), (477, 0), (541, 1), (605, 1), (669, 0), (733, 0), (797, 0), (861, 1), (925, 0), (989, 1), (1053, 0), (1117, 1), (1181, 0), (1245, 0), (1309, 0), (1373, 1), (1437, 0), (1501, 1), (1565, 1), (1629, 0), (1693, 1), (1757, 1), (1821, 0), (1885, 0), (1949, 1), (30, 0), (94, 1), (158, 0), (222, 0), (286, 0), (350, 0), (414, 0), (478, 0), (542, 1), (606, 0), (670, 1), (734, 0), (798, 0), (862, 0), (926, 1), (990, 0), (1054, 1), (1118, 0), (1182, 0), (1246, 1), (1310, 0), (1374, 0), (1438, 0), (1502, 1), (1566, 1), (1630, 0), (1694, 0), (1758, 0), (1822, 0), (1886, 1), (1950, 1), (31, 0), (95, 0), (159, 0), (223, 0), (287, 1), (351, 1), (415, 1), (479, 1), (543, 0), (607, 0), (671, 0), (735, 0), (799, 1), (863, 0), (927, 0), (991, 1), (1055, 1), (1119, 0), (1183, 1), (1247, 0), (1311, 1), (1375, 3), (1439, 1), (1503, 1)]\n"
          ]
        }
      ],
      "source": [
        "knn_start_time = time.time()\n",
        "broadcast_test_data = test_rdd.glom().collect()\n",
        "train_rdd_chunks = train_rdd.glom()\n",
        "\n",
        "k_neighbors = 5\n",
        "\n",
        "for test_partition in broadcast_test_data:\n",
        "    knn_results = train_rdd_chunks.flatMap(lambda chunk: compute_knn(chunk, test_partition, k_neighbors))\n",
        "\n",
        "    #reduce_start_time = time.time()\n",
        "\n",
        "    grouped_results = knn_results.groupByKey().mapValues(list)\n",
        "    predictions = grouped_results.map(lambda line: select_knn_results(line))\n",
        "\n",
        "    #reduce_time = time.time() - reduce_start_time\n",
        "\n",
        "    print(predictions.take(1000))"
      ]
    },
    {
      "cell_type": "code",
      "execution_count": 14,
      "metadata": {
        "colab": {
          "base_uri": "https://localhost:8080/"
        },
        "id": "Eeq58SRFcmIg",
        "outputId": "17043e38-e7a5-4fff-bcf9-21f8300245f6"
      },
      "outputs": [
        {
          "output_type": "stream",
          "name": "stdout",
          "text": [
            "kNN computation completed in 94.75 seconds.\n"
          ]
        }
      ],
      "source": [
        "print(f\"kNN computation completed in {time.time() - knn_start_time:.2f} seconds.\")"
      ]
    }
  ],
  "metadata": {
    "colab": {
      "provenance": []
    },
    "kernelspec": {
      "display_name": "Python 3",
      "name": "python3"
    },
    "language_info": {
      "name": "python"
    }
  },
  "nbformat": 4,
  "nbformat_minor": 0
}